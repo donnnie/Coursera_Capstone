{
 "cells": [
  {
   "cell_type": "markdown",
   "metadata": {},
   "source": [
    "# Business Problem"
   ]
  },
  {
   "cell_type": "markdown",
   "metadata": {},
   "source": [
    "I live in Italy and Italy is famous throughout the world for its cuisine. You can find different cuisines from different regions of Italy in the cities (specially the major cities), and if you are looking for food from other countries, there are many options as well. "
   ]
  },
  {
   "cell_type": "markdown",
   "metadata": {},
   "source": [
    "Fast foods are quite popular nowadays, specially among students and workers, who just want to grab a quick bite and get back to their studies or work. Among many fast food options, one that is quite popular in Italy (and many other places) is Turkish Kebab.\n"
   ]
  },
  {
   "cell_type": "markdown",
   "metadata": {},
   "source": [
    "For a hypothetical client who wants to open a Turkish Kebab restaurant in Milan, I will look into and analyse the spread of the Turkish Kebab restaurants that are already there in the city, and come up with a suggestion on where would be better to open such a restaurant.\n"
   ]
  },
  {
   "cell_type": "code",
   "execution_count": null,
   "metadata": {},
   "outputs": [],
   "source": []
  }
 ],
 "metadata": {
  "kernelspec": {
   "display_name": "Python 3",
   "language": "python",
   "name": "python3"
  },
  "language_info": {
   "codemirror_mode": {
    "name": "ipython",
    "version": 3
   },
   "file_extension": ".py",
   "mimetype": "text/x-python",
   "name": "python",
   "nbconvert_exporter": "python",
   "pygments_lexer": "ipython3",
   "version": "3.7.6"
  }
 },
 "nbformat": 4,
 "nbformat_minor": 4
}
